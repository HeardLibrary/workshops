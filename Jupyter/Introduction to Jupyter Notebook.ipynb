{
 "cells": [
  {
   "cell_type": "markdown",
   "metadata": {},
   "source": [
    "# Jupyter Notebook\n",
    "\n",
    "[Jupyter Notebook](http://jupyter.org/) that evolved out of iPython and is aimed at providing a platform for easy sharing, interaction, and development of open-source software, standards and services.  Althought primarily and originally used for phyton interactions, you can interact with multiple programming languages using Jupyter (although orignially expanded from iPython to includ Julia, Pythion, and R).  Jupyter notebooks is a great way to create, test, and share live code, as well as equations and visualizations with markdown text.  \n",
    "\n",
    "To inlcude more languages, check out [kernels](https://github.com/jupyter/jupyter/wiki/Jupyter-kernels) that are supported and their [installation instructions](https://ipython.readthedocs.io/en/latest/install/kernel_install.html).\n",
    "\n",
    "# Installation\n",
    "\n",
    "To get started, [download and install](http://jupyter.readthedocs.io/en/latest/install.html) Jupyter.  Installation of [Anaconda](https://www.anaconda.com/download/) is reccomened by Jupyter becuase it will also cover your python and notebook installation at the same time.  If you prefer, you can also install Jupyter with pip, but this is only suggested for advanced Python users.  There is extensive documentation to help with installation and download availble on the Jupyter and Anaconda pages.\n",
    "\n",
    "Once installed, launch the Anacdona Navigator and launch Jupter notebooks.  Also open the Anaconda Prompt window.  We will use this window to install extra widgets.\n",
    "\n",
    "In your Anaconda Prompt window, type the statement below and press enter, continue by following the prompts.\n",
    "\n",
    "```\n",
    "conda install -c conda-forge ipyleaflet\n",
    "```\n",
    "\n",
    "In your Anaconda Prompt window, type the statement below and press enter, continue by following the prompts.\n",
    "\n",
    "```\n",
    "conda install -c conda-forge bqplot\n",
    "```\n",
    "\n",
    "In your Anaconda Prompt window, type the statement below and press enter, continue by following the prompts.\n",
    "\n",
    "```\n",
    "conda install -c conda-forge pythreejs\n",
    "```\n",
    "\n",
    "Check out this [cheatsheet](https://s3.amazonaws.com/assets.datacamp.com/blog_assets/Jupyter_Notebook_Cheat_Sheet.pdf) by DataCamp to help with the interface.\n",
    "\n",
    "## Help Dropdown\n",
    "\n",
    "Spend some time going through these help features.\n",
    "\n",
    "## Markdown\n",
    "\n",
    "Markdown can be easily used in Jupyter.  Simply change the dropdown for the cell to \"Markdown\".  If you need a refresher, here is another good [cheatsheet](https://guides.github.com/pdfs/markdown-cheatsheet-online.pdf).  \n",
    "\n",
    "## Special Commands\n",
    "Special commands can change shell to run different commands, for example you can run bash commands and magic commands directly within a new cell.\n"
   ]
  },
  {
   "cell_type": "code",
   "execution_count": 44,
   "metadata": {},
   "outputs": [
    {
     "name": "stdout",
     "output_type": "stream",
     "text": [
      "# packages in environment at /Users/ldsfoxmac/anaconda:\n",
      "#\n",
      "_license                  1.1                      py36_1  \n",
      "alabaster                 0.7.10                   py36_0  \n",
      "anaconda                  custom                   py36_0  \n",
      "anaconda-client           1.6.3                    py36_0  \n",
      "anaconda-navigator        1.6.2                    py36_0  \n",
      "anaconda-project          0.6.0                    py36_0  \n",
      "appnope                   0.1.0                    py36_0  \n",
      "appscript                 1.0.1                    py36_0  \n",
      "asn1crypto                0.22.0                   py36_0  \n",
      "astroid                   1.4.9                    py36_0  \n",
      "astropy                   1.3.2               np112py36_0  \n",
      "babel                     2.4.0                    py36_0  \n",
      "backports                 1.0                      py36_0  \n",
      "beautifulsoup4            4.6.0                    py36_0  \n",
      "bitarray                  0.8.1                    py36_0  \n",
      "blaze                     0.10.1                   py36_0  \n",
      "bleach                    1.5.0                    py36_0  \n",
      "bokeh                     0.12.5                   py36_1  \n",
      "boto                      2.46.1                   py36_0  \n",
      "bottleneck                1.2.1               np112py36_0  \n",
      "cffi                      1.10.0                   py36_0  \n",
      "chardet                   3.0.3                    py36_0  \n",
      "click                     6.7                      py36_0  \n",
      "cloudpickle               0.2.2                    py36_0  \n",
      "clyent                    1.2.2                    py36_0  \n",
      "colorama                  0.3.9                    py36_0  \n",
      "conda                     4.3.29                   py36_0    conda-forge\n",
      "conda-env                 2.6.0                         0    conda-forge\n",
      "contextlib2               0.5.5                    py36_0  \n",
      "cryptography              1.8.1                    py36_0  \n",
      "curl                      7.52.1                        0  \n",
      "cycler                    0.10.0                   py36_0  \n",
      "cython                    0.25.2                   py36_0  \n",
      "cytoolz                   0.8.2                    py36_0  \n",
      "dask                      0.14.3                   py36_1  \n",
      "datashape                 0.5.4                    py36_0  \n",
      "decorator                 4.0.11                   py36_0  \n",
      "distributed               1.16.3                   py36_0  \n",
      "docutils                  0.13.1                   py36_0  \n",
      "entrypoints               0.2.2                    py36_1  \n",
      "et_xmlfile                1.0.1                    py36_0  \n",
      "fastcache                 1.0.2                    py36_1  \n",
      "flask                     0.12.2                   py36_0  \n",
      "flask-cors                3.0.2                    py36_0  \n",
      "freetype                  2.5.5                         2  \n",
      "get_terminal_size         1.0.0                    py36_0  \n",
      "gevent                    1.2.1                    py36_0  \n",
      "greenlet                  0.4.12                   py36_0  \n",
      "h5py                      2.7.0               np112py36_0  \n",
      "hdf5                      1.8.17                        1  \n",
      "heapdict                  1.0.0                    py36_1  \n",
      "html5lib                  0.999                    py36_0  \n",
      "icu                       54.1                          0  \n",
      "idna                      2.5                      py36_0  \n",
      "imagesize                 0.7.1                    py36_0  \n",
      "ipykernel                 4.6.1                    py36_0  \n",
      "ipyleaflet                0.4.0                    py36_0    conda-forge\n",
      "ipython                   5.3.0                    py36_0  \n",
      "ipython_genutils          0.2.0                    py36_0  \n",
      "ipywidgets                7.0.1                      py_2    conda-forge\n",
      "isort                     4.2.5                    py36_0  \n",
      "itsdangerous              0.24                     py36_0  \n",
      "jbig                      2.1                           0  \n",
      "jdcal                     1.3                      py36_0  \n",
      "jedi                      0.10.2                   py36_2  \n",
      "jinja2                    2.9.6                    py36_0  \n",
      "jpeg                      9b                            0  \n",
      "jsonschema                2.6.0                    py36_0  \n",
      "jupyter                   1.0.0                    py36_3  \n",
      "jupyter_client            5.0.1                    py36_0  \n",
      "jupyter_console           5.1.0                    py36_0  \n",
      "jupyter_core              4.3.0                    py36_0  \n",
      "lazy-object-proxy         1.2.2                    py36_0  \n",
      "libiconv                  1.14                          0  \n",
      "libpng                    1.6.27                        0  \n",
      "libtiff                   4.0.6                         3  \n",
      "libxml2                   2.9.4                         0  \n",
      "libxslt                   1.1.29                        0  \n",
      "llvmlite                  0.18.0                   py36_0  \n",
      "locket                    0.2.0                    py36_1  \n",
      "lxml                      3.7.3                    py36_0  \n",
      "markupsafe                0.23                     py36_2  \n",
      "matplotlib                2.0.2               np112py36_0  \n",
      "mistune                   0.7.4                    py36_0  \n",
      "mkl                       2017.0.1                      0  \n",
      "mkl-service               1.1.2                    py36_3  \n",
      "mpmath                    0.19                     py36_1  \n",
      "msgpack-python            0.4.8                    py36_0  \n",
      "multipledispatch          0.4.9                    py36_0  \n",
      "navigator-updater         0.1.0                    py36_0  \n",
      "nbconvert                 5.1.1                    py36_0  \n",
      "nbformat                  4.3.0                    py36_0  \n",
      "networkx                  1.11                     py36_0  \n",
      "nltk                      3.2.3                    py36_0  \n",
      "nose                      1.3.7                    py36_1  \n",
      "notebook                  5.0.0                    py36_0  \n",
      "numba                     0.33.0              np112py36_0  \n",
      "numexpr                   2.6.2               np112py36_0  \n",
      "numpy                     1.12.1                   py36_0  \n",
      "numpydoc                  0.6.0                    py36_0  \n",
      "odo                       0.5.0                    py36_1  \n",
      "olefile                   0.44                     py36_0  \n",
      "openpyxl                  2.4.7                    py36_0  \n",
      "openssl                   1.0.2l                        0  \n",
      "packaging                 16.8                     py36_0  \n",
      "pandas                    0.20.1              np112py36_0  \n",
      "pandocfilters             1.4.1                    py36_0  \n",
      "partd                     0.3.8                    py36_0  \n",
      "path.py                   10.3.1                   py36_0  \n",
      "pathlib2                  2.2.1                    py36_0  \n",
      "patsy                     0.4.1                    py36_0  \n",
      "pep8                      1.7.0                    py36_0  \n",
      "pexpect                   4.2.1                    py36_0  \n",
      "pickleshare               0.7.4                    py36_0  \n",
      "pillow                    4.1.1                    py36_0  \n",
      "pip                       9.0.1                    py36_1  \n",
      "ply                       3.10                     py36_0  \n",
      "prompt_toolkit            1.0.14                   py36_0  \n",
      "psutil                    5.2.2                    py36_0  \n",
      "ptyprocess                0.5.1                    py36_0  \n",
      "py                        1.4.33                   py36_0  \n",
      "py-d3                     0.2.7                     <pip>\n",
      "pycosat                   0.6.2                    py36_0  \n",
      "pycparser                 2.17                     py36_0  \n",
      "pycrypto                  2.6.1                    py36_6  \n",
      "pycurl                    7.43.0                   py36_2  \n",
      "pyflakes                  1.5.0                    py36_0  \n",
      "pygments                  2.2.0                    py36_0  \n",
      "pylint                    1.6.4                    py36_1  \n",
      "pyodbc                    4.0.16                   py36_0  \n",
      "pyopenssl                 17.0.0                   py36_0  \n",
      "pyparsing                 2.1.4                    py36_0  \n",
      "pyqt                      5.6.0                    py36_1  \n",
      "pytables                  3.3.0               np112py36_0  \n",
      "pytest                    3.0.7                    py36_0  \n",
      "python                    3.6.1                         2  \n",
      "python-dateutil           2.6.0                    py36_0  \n",
      "python.app                1.2                      py36_4  \n",
      "pythreejs                 0.3.0                    py36_0    conda-forge\n",
      "pytz                      2017.2                   py36_0  \n",
      "pywavelets                0.5.2               np112py36_0  \n",
      "pyyaml                    3.12                     py36_0  \n",
      "pyzmq                     16.0.2                   py36_0  \n",
      "qt                        5.6.2                         2  \n",
      "qtawesome                 0.4.4                    py36_0  \n",
      "qtconsole                 4.3.0                    py36_0  \n",
      "qtpy                      1.2.1                    py36_0  \n",
      "readline                  6.2                           2  \n",
      "requests                  2.14.2                   py36_0  \n",
      "rope                      0.9.4                    py36_1  \n",
      "ruamel_yaml               0.11.14                  py36_1  \n",
      "scikit-image              0.13.0              np112py36_0  \n",
      "scikit-learn              0.18.1              np112py36_1  \n",
      "scipy                     0.19.0              np112py36_0  \n",
      "seaborn                   0.7.1                    py36_0  \n",
      "setuptools                27.2.0                   py36_0  \n",
      "simplegeneric             0.8.1                    py36_1  \n",
      "singledispatch            3.4.0.3                  py36_0  \n",
      "sip                       4.18                     py36_0  \n",
      "six                       1.10.0                   py36_0  \n",
      "snowballstemmer           1.2.1                    py36_0  \n",
      "sortedcollections         0.5.3                    py36_0  \n",
      "sortedcontainers          1.5.7                    py36_0  \n",
      "sphinx                    1.5.6                    py36_0  \n",
      "spyder                    3.1.4                    py36_0  \n",
      "sqlalchemy                1.1.9                    py36_0  \n",
      "sqlite                    3.13.0                        0  \n",
      "statsmodels               0.8.0               np112py36_0  \n",
      "sympy                     1.0                      py36_0  \n",
      "tblib                     1.3.2                    py36_0  \n",
      "terminado                 0.6                      py36_0  \n",
      "testpath                  0.3                      py36_0  \n",
      "tk                        8.5.18                        0  \n",
      "toolz                     0.8.2                    py36_0  \n",
      "tornado                   4.5.1                    py36_0  \n",
      "traitlets                 4.3.2                    py36_0  \n",
      "unicodecsv                0.14.1                   py36_0  \n",
      "unixodbc                  2.3.4                         0  \n",
      "wcwidth                   0.1.7                    py36_0  \n",
      "werkzeug                  0.12.2                   py36_0  \n",
      "wheel                     0.29.0                   py36_0  \n",
      "widgetsnbextension        3.0.3                    py36_2    conda-forge\n",
      "wrapt                     1.10.10                  py36_0  \n",
      "xlrd                      1.0.0                    py36_0  \n",
      "xlsxwriter                0.9.6                    py36_0  \n",
      "xlwings                   0.10.4                   py36_0  \n",
      "xlwt                      1.2.0                    py36_0  \n",
      "xz                        5.2.2                         1  \n",
      "yaml                      0.1.6                         0  \n",
      "zict                      0.1.2                    py36_0  \n",
      "zlib                      1.2.8                         3  \n"
     ]
    }
   ],
   "source": [
    "!conda list\n"
   ]
  },
  {
   "cell_type": "markdown",
   "metadata": {},
   "source": [
    "[Magic commands](http://ipython.readthedocs.io/en/stable/interactive/magics.html)- Single percent sign means the cells arguments come from the same line, 2 mean the entire cell is used for the entire argument.  lsmagic command can be used to list all other commands."
   ]
  },
  {
   "cell_type": "code",
   "execution_count": 43,
   "metadata": {},
   "outputs": [
    {
     "data": {
      "application/json": {
       "cell": {
        "!": "OSMagics",
        "HTML": "Other",
        "SVG": "Other",
        "bash": "Other",
        "capture": "ExecutionMagics",
        "debug": "ExecutionMagics",
        "file": "Other",
        "html": "DisplayMagics",
        "javascript": "DisplayMagics",
        "js": "DisplayMagics",
        "latex": "DisplayMagics",
        "perl": "Other",
        "prun": "ExecutionMagics",
        "pypy": "Other",
        "python": "Other",
        "python2": "Other",
        "python3": "Other",
        "ruby": "Other",
        "script": "ScriptMagics",
        "sh": "Other",
        "svg": "DisplayMagics",
        "sx": "OSMagics",
        "system": "OSMagics",
        "time": "ExecutionMagics",
        "timeit": "ExecutionMagics",
        "writefile": "OSMagics"
       },
       "line": {
        "alias": "OSMagics",
        "alias_magic": "BasicMagics",
        "autocall": "AutoMagics",
        "automagic": "AutoMagics",
        "autosave": "KernelMagics",
        "bookmark": "OSMagics",
        "cat": "Other",
        "cd": "OSMagics",
        "clear": "KernelMagics",
        "colors": "BasicMagics",
        "config": "ConfigMagics",
        "connect_info": "KernelMagics",
        "cp": "Other",
        "debug": "ExecutionMagics",
        "dhist": "OSMagics",
        "dirs": "OSMagics",
        "doctest_mode": "BasicMagics",
        "ed": "Other",
        "edit": "KernelMagics",
        "env": "OSMagics",
        "gui": "BasicMagics",
        "hist": "Other",
        "history": "HistoryMagics",
        "killbgscripts": "ScriptMagics",
        "ldir": "Other",
        "less": "KernelMagics",
        "lf": "Other",
        "lk": "Other",
        "ll": "Other",
        "load": "CodeMagics",
        "load_ext": "ExtensionMagics",
        "loadpy": "CodeMagics",
        "logoff": "LoggingMagics",
        "logon": "LoggingMagics",
        "logstart": "LoggingMagics",
        "logstate": "LoggingMagics",
        "logstop": "LoggingMagics",
        "ls": "Other",
        "lsmagic": "BasicMagics",
        "lx": "Other",
        "macro": "ExecutionMagics",
        "magic": "BasicMagics",
        "man": "KernelMagics",
        "matplotlib": "PylabMagics",
        "mkdir": "Other",
        "more": "KernelMagics",
        "mv": "Other",
        "notebook": "BasicMagics",
        "page": "BasicMagics",
        "pastebin": "CodeMagics",
        "pdb": "ExecutionMagics",
        "pdef": "NamespaceMagics",
        "pdoc": "NamespaceMagics",
        "pfile": "NamespaceMagics",
        "pinfo": "NamespaceMagics",
        "pinfo2": "NamespaceMagics",
        "popd": "OSMagics",
        "pprint": "BasicMagics",
        "precision": "BasicMagics",
        "profile": "BasicMagics",
        "prun": "ExecutionMagics",
        "psearch": "NamespaceMagics",
        "psource": "NamespaceMagics",
        "pushd": "OSMagics",
        "pwd": "OSMagics",
        "pycat": "OSMagics",
        "pylab": "PylabMagics",
        "qtconsole": "KernelMagics",
        "quickref": "BasicMagics",
        "recall": "HistoryMagics",
        "rehashx": "OSMagics",
        "reload_ext": "ExtensionMagics",
        "rep": "Other",
        "rerun": "HistoryMagics",
        "reset": "NamespaceMagics",
        "reset_selective": "NamespaceMagics",
        "rm": "Other",
        "rmdir": "Other",
        "run": "ExecutionMagics",
        "save": "CodeMagics",
        "sc": "OSMagics",
        "set_env": "OSMagics",
        "store": "StoreMagics",
        "sx": "OSMagics",
        "system": "OSMagics",
        "tb": "ExecutionMagics",
        "time": "ExecutionMagics",
        "timeit": "ExecutionMagics",
        "unalias": "OSMagics",
        "unload_ext": "ExtensionMagics",
        "who": "NamespaceMagics",
        "who_ls": "NamespaceMagics",
        "whos": "NamespaceMagics",
        "xdel": "NamespaceMagics",
        "xmode": "BasicMagics"
       }
      },
      "text/plain": [
       "Available line magics:\n",
       "%alias  %alias_magic  %autocall  %automagic  %autosave  %bookmark  %cat  %cd  %clear  %colors  %config  %connect_info  %cp  %debug  %dhist  %dirs  %doctest_mode  %ed  %edit  %env  %gui  %hist  %history  %killbgscripts  %ldir  %less  %lf  %lk  %ll  %load  %load_ext  %loadpy  %logoff  %logon  %logstart  %logstate  %logstop  %ls  %lsmagic  %lx  %macro  %magic  %man  %matplotlib  %mkdir  %more  %mv  %notebook  %page  %pastebin  %pdb  %pdef  %pdoc  %pfile  %pinfo  %pinfo2  %popd  %pprint  %precision  %profile  %prun  %psearch  %psource  %pushd  %pwd  %pycat  %pylab  %qtconsole  %quickref  %recall  %rehashx  %reload_ext  %rep  %rerun  %reset  %reset_selective  %rm  %rmdir  %run  %save  %sc  %set_env  %store  %sx  %system  %tb  %time  %timeit  %unalias  %unload_ext  %who  %who_ls  %whos  %xdel  %xmode\n",
       "\n",
       "Available cell magics:\n",
       "%%!  %%HTML  %%SVG  %%bash  %%capture  %%debug  %%file  %%html  %%javascript  %%js  %%latex  %%perl  %%prun  %%pypy  %%python  %%python2  %%python3  %%ruby  %%script  %%sh  %%svg  %%sx  %%system  %%time  %%timeit  %%writefile\n",
       "\n",
       "Automagic is ON, % prefix IS NOT needed for line magics."
      ]
     },
     "execution_count": 43,
     "metadata": {},
     "output_type": "execute_result"
    }
   ],
   "source": [
    "%lsmagic"
   ]
  },
  {
   "cell_type": "code",
   "execution_count": 27,
   "metadata": {
    "collapsed": true
   },
   "outputs": [],
   "source": [
    "%matplotlib inline"
   ]
  },
  {
   "cell_type": "markdown",
   "metadata": {},
   "source": [
    "Matplotlib examples can be found [here](https://matplotlib.org/gallery/index.html)."
   ]
  },
  {
   "cell_type": "code",
   "execution_count": 29,
   "metadata": {},
   "outputs": [
    {
     "data": {
      "image/png": "[encoded data removed]",
      "text/plain": [
       "<matplotlib.figure.Figure at 0x116ddea20>"
      ]
     },
     "metadata": {},
     "output_type": "display_data"
    }
   ],
   "source": [
    "import numpy as np\n",
    "import matplotlib\n",
    "import matplotlib.pyplot as plt\n",
    "\n",
    "# Fixing random state for reproducibility\n",
    "np.random.seed(19680801)\n",
    "\n",
    "\n",
    "matplotlib.rcParams['axes.unicode_minus'] = False\n",
    "fig, ax = plt.subplots()\n",
    "ax.plot(10*np.random.randn(100), 10*np.random.randn(100), 'o')\n",
    "ax.set_title('Using hyphen instead of Unicode minus')\n",
    "plt.show()"
   ]
  },
  {
   "cell_type": "code",
   "execution_count": 28,
   "metadata": {},
   "outputs": [
    {
     "data": {
      "image/png": "[encoded data removed]",
      "text/plain": [
       "<matplotlib.figure.Figure at 0x116ded710>"
      ]
     },
     "metadata": {},
     "output_type": "display_data"
    }
   ],
   "source": [
    "import matplotlib.pyplot as plt\n",
    "from matplotlib import collections, colors, transforms\n",
    "import numpy as np\n",
    "\n",
    "nverts = 50\n",
    "npts = 100\n",
    "\n",
    "# Make some spirals\n",
    "r = np.arange(nverts)\n",
    "theta = np.linspace(0, 2*np.pi, nverts)\n",
    "xx = r * np.sin(theta)\n",
    "yy = r * np.cos(theta)\n",
    "spiral = list(zip(xx, yy))\n",
    "\n",
    "# Make some offsets\n",
    "# Fixing random state for reproducibility\n",
    "rs = np.random.RandomState(19680801)\n",
    "\n",
    "\n",
    "xo = rs.randn(npts)\n",
    "yo = rs.randn(npts)\n",
    "xyo = list(zip(xo, yo))\n",
    "\n",
    "# Make a list of colors cycling through the default series.\n",
    "colors = [colors.to_rgba(c)\n",
    "          for c in plt.rcParams['axes.prop_cycle'].by_key()['color']]\n",
    "\n",
    "fig, axes = plt.subplots(2, 2)\n",
    "fig.subplots_adjust(top=0.92, left=0.07, right=0.97,\n",
    "                    hspace=0.3, wspace=0.3)\n",
    "((ax1, ax2), (ax3, ax4)) = axes  # unpack the axes\n",
    "\n",
    "\n",
    "col = collections.LineCollection([spiral], offsets=xyo,\n",
    "                                 transOffset=ax1.transData)\n",
    "trans = fig.dpi_scale_trans + transforms.Affine2D().scale(1.0/72.0)\n",
    "col.set_transform(trans)  # the points to pixels transform\n",
    "# Note: the first argument to the collection initializer\n",
    "# must be a list of sequences of x,y tuples; we have only\n",
    "# one sequence, but we still have to put it in a list.\n",
    "ax1.add_collection(col, autolim=True)\n",
    "# autolim=True enables autoscaling.  For collections with\n",
    "# offsets like this, it is neither efficient nor accurate,\n",
    "# but it is good enough to generate a plot that you can use\n",
    "# as a starting point.  If you know beforehand the range of\n",
    "# x and y that you want to show, it is better to set them\n",
    "# explicitly, leave out the autolim kwarg (or set it to False),\n",
    "# and omit the 'ax1.autoscale_view()' call below.\n",
    "\n",
    "# Make a transform for the line segments such that their size is\n",
    "# given in points:\n",
    "col.set_color(colors)\n",
    "\n",
    "ax1.autoscale_view()  # See comment above, after ax1.add_collection.\n",
    "ax1.set_title('LineCollection using offsets')\n",
    "\n",
    "\n",
    "# The same data as above, but fill the curves.\n",
    "col = collections.PolyCollection([spiral], offsets=xyo,\n",
    "                                 transOffset=ax2.transData)\n",
    "trans = transforms.Affine2D().scale(fig.dpi/72.0)\n",
    "col.set_transform(trans)  # the points to pixels transform\n",
    "ax2.add_collection(col, autolim=True)\n",
    "col.set_color(colors)\n",
    "\n",
    "\n",
    "ax2.autoscale_view()\n",
    "ax2.set_title('PolyCollection using offsets')\n",
    "\n",
    "# 7-sided regular polygons\n",
    "\n",
    "col = collections.RegularPolyCollection(\n",
    "    7, sizes=np.abs(xx) * 10.0, offsets=xyo, transOffset=ax3.transData)\n",
    "trans = transforms.Affine2D().scale(fig.dpi / 72.0)\n",
    "col.set_transform(trans)  # the points to pixels transform\n",
    "ax3.add_collection(col, autolim=True)\n",
    "col.set_color(colors)\n",
    "ax3.autoscale_view()\n",
    "ax3.set_title('RegularPolyCollection using offsets')\n",
    "\n",
    "\n",
    "# Simulate a series of ocean current profiles, successively\n",
    "# offset by 0.1 m/s so that they form what is sometimes called\n",
    "# a \"waterfall\" plot or a \"stagger\" plot.\n",
    "\n",
    "nverts = 60\n",
    "ncurves = 20\n",
    "offs = (0.1, 0.0)\n",
    "\n",
    "yy = np.linspace(0, 2*np.pi, nverts)\n",
    "ym = np.max(yy)\n",
    "xx = (0.2 + (ym - yy)/ym)**2 * np.cos(yy - 0.4)*0.5\n",
    "segs = []\n",
    "for i in range(ncurves):\n",
    "    xxx = xx + 0.02*rs.randn(nverts)\n",
    "    curve = list(zip(xxx, yy*100))\n",
    "    segs.append(curve)\n",
    "\n",
    "col = collections.LineCollection(segs, offsets=offs)\n",
    "ax4.add_collection(col, autolim=True)\n",
    "col.set_color(colors)\n",
    "ax4.autoscale_view()\n",
    "ax4.set_title('Successive data offsets')\n",
    "ax4.set_xlabel('Zonal velocity component (m/s)')\n",
    "ax4.set_ylabel('Depth (m)')\n",
    "# Reverse the y-axis so depth increases downward\n",
    "ax4.set_ylim(ax4.get_ylim()[::-1])\n",
    "\n",
    "\n",
    "plt.show()"
   ]
  },
  {
   "cell_type": "code",
   "execution_count": 34,
   "metadata": {},
   "outputs": [
    {
     "data": {
      "text/html": [
       "<iframe src=\"https://giphy.com/embed/3o7qE32pRVNYJYKGBO\" width=\"480\" height=\"269\" frameBorder=\"0\" class=\"giphy-embed\" allowFullScreen></iframe><p><a href=\"https://giphy.com/gifs/veep-3o7qE32pRVNYJYKGBO\">via GIPHY</a></p>"
      ],
      "text/plain": [
       "<IPython.core.display.HTML object>"
      ]
     },
     "metadata": {},
     "output_type": "display_data"
    }
   ],
   "source": [
    "%%HTML\n",
    "<iframe src=\"https://giphy.com/embed/3o7qE32pRVNYJYKGBO\" width=\"480\" height=\"269\" frameBorder=\"0\" class=\"giphy-embed\" allowFullScreen></iframe><p><a href=\"https://giphy.com/gifs/veep-3o7qE32pRVNYJYKGBO\">via GIPHY</a></p>"
   ]
  },
  {
   "cell_type": "markdown",
   "metadata": {},
   "source": [
    "## Python \n",
    "\n",
    "To get started, let's practice some very basic python scripts.  Start with trying to print \"Hello World\".  Once you have entered your script hit Shift+Enter.  This will execute your code and create or send you to the next cell.  Once you have done that try checking out a [Cheatsheet](https://ehmatthes.github.io/pcc/cheatsheets/README.html) to help get you running with another basic code snippet.\n",
    "\n",
    "Don't be afraid to try something new.  You won't break the shell, it will simply return an error if something is wrong.\n",
    "\n",
    "There are many cheatsheets out there if you are uncomfortable writing your own snippet.  Just do a quick google search for a function and copy/paste/execute in a cell below."
   ]
  },
  {
   "cell_type": "code",
   "execution_count": 4,
   "metadata": {
    "scrolled": true
   },
   "outputs": [
    {
     "name": "stdout",
     "output_type": "stream",
     "text": [
      "hello world\n",
      "this is neat\n"
     ]
    }
   ],
   "source": [
    "print ('hello world');\n",
    "print('this is neat')\n",
    "       "
   ]
  },
  {
   "cell_type": "code",
   "execution_count": 8,
   "metadata": {},
   "outputs": [
    {
     "name": "stdout",
     "output_type": "stream",
     "text": [
      "This is cool!\n"
     ]
    }
   ],
   "source": [
    "print('This is cool!')"
   ]
  },
  {
   "cell_type": "code",
   "execution_count": 5,
   "metadata": {},
   "outputs": [
    {
     "data": {
      "text/plain": [
       "'abcabcabcabcabcabcabcabcabcabcabcabcabcabcabcabcabcabcabcabcabcabcabcabcabcabcabcabcabcabcabcabcabcabcabcabcabcabcabcabcabcabcabcabcabcabcabcabcabcabcabcabc'"
      ]
     },
     "execution_count": 5,
     "metadata": {},
     "output_type": "execute_result"
    }
   ],
   "source": [
    "\"abc\"*52"
   ]
  },
  {
   "cell_type": "markdown",
   "metadata": {},
   "source": [
    "#### For this next example, we will import the [pandas](http://pandas.pydata.org/) library.  Most python scripts use some sort of library or module that contains global variables, source files, and functions.  These libraries or modules can be called and executed with your code.  "
   ]
  },
  {
   "cell_type": "code",
   "execution_count": 9,
   "metadata": {},
   "outputs": [
    {
     "data": {
      "text/html": [
       "<div>\n",
       "<style>\n",
       "    .dataframe thead tr:only-child th {\n",
       "        text-align: right;\n",
       "    }\n",
       "\n",
       "    .dataframe thead th {\n",
       "        text-align: left;\n",
       "    }\n",
       "\n",
       "    .dataframe tbody tr th {\n",
       "        vertical-align: top;\n",
       "    }\n",
       "</style>\n",
       "<table border=\"1\" class=\"dataframe\">\n",
       "  <thead>\n",
       "    <tr style=\"text-align: right;\">\n",
       "      <th></th>\n",
       "      <th>a</th>\n",
       "      <th>b</th>\n",
       "      <th>c</th>\n",
       "    </tr>\n",
       "  </thead>\n",
       "  <tbody>\n",
       "    <tr>\n",
       "      <th>0</th>\n",
       "      <td>0</td>\n",
       "      <td>10</td>\n",
       "      <td>20</td>\n",
       "    </tr>\n",
       "    <tr>\n",
       "      <th>1</th>\n",
       "      <td>1</td>\n",
       "      <td>11</td>\n",
       "      <td>21</td>\n",
       "    </tr>\n",
       "    <tr>\n",
       "      <th>2</th>\n",
       "      <td>2</td>\n",
       "      <td>12</td>\n",
       "      <td>22</td>\n",
       "    </tr>\n",
       "    <tr>\n",
       "      <th>3</th>\n",
       "      <td>3</td>\n",
       "      <td>13</td>\n",
       "      <td>23</td>\n",
       "    </tr>\n",
       "    <tr>\n",
       "      <th>4</th>\n",
       "      <td>4</td>\n",
       "      <td>14</td>\n",
       "      <td>24</td>\n",
       "    </tr>\n",
       "    <tr>\n",
       "      <th>5</th>\n",
       "      <td>5</td>\n",
       "      <td>15</td>\n",
       "      <td>25</td>\n",
       "    </tr>\n",
       "    <tr>\n",
       "      <th>6</th>\n",
       "      <td>6</td>\n",
       "      <td>16</td>\n",
       "      <td>26</td>\n",
       "    </tr>\n",
       "    <tr>\n",
       "      <th>7</th>\n",
       "      <td>7</td>\n",
       "      <td>17</td>\n",
       "      <td>27</td>\n",
       "    </tr>\n",
       "    <tr>\n",
       "      <th>8</th>\n",
       "      <td>8</td>\n",
       "      <td>18</td>\n",
       "      <td>28</td>\n",
       "    </tr>\n",
       "    <tr>\n",
       "      <th>9</th>\n",
       "      <td>9</td>\n",
       "      <td>19</td>\n",
       "      <td>29</td>\n",
       "    </tr>\n",
       "    <tr>\n",
       "      <th>10</th>\n",
       "      <td>10</td>\n",
       "      <td>20</td>\n",
       "      <td>30</td>\n",
       "    </tr>\n",
       "  </tbody>\n",
       "</table>\n",
       "</div>"
      ],
      "text/plain": [
       "     a   b   c\n",
       "0    0  10  20\n",
       "1    1  11  21\n",
       "2    2  12  22\n",
       "3    3  13  23\n",
       "4    4  14  24\n",
       "5    5  15  25\n",
       "6    6  16  26\n",
       "7    7  17  27\n",
       "8    8  18  28\n",
       "9    9  19  29\n",
       "10  10  20  30"
      ]
     },
     "execution_count": 9,
     "metadata": {},
     "output_type": "execute_result"
    }
   ],
   "source": [
    "import pandas as pd\n",
    "\n",
    "df = pd.DataFrame()\n",
    "a=range(11)\n",
    "b=range(10,21)\n",
    "c=range(20,31)\n",
    "df['a']=a\n",
    "df['b']=b\n",
    "df['c']=c\n",
    "\n",
    "df\n",
    "  "
   ]
  },
  {
   "cell_type": "markdown",
   "metadata": {},
   "source": [
    "#### The [math](https://docs.python.org/3/library/math.html) functions can be called by saying \"import math\" before your code.  This way jupyter, and any python script for that matter, knows to use those functions in the following code."
   ]
  },
  {
   "cell_type": "code",
   "execution_count": 8,
   "metadata": {},
   "outputs": [
    {
     "name": "stdout",
     "output_type": "stream",
     "text": [
      "6.999999900000001\n",
      "6.9999999\n"
     ]
    }
   ],
   "source": [
    "import math\n",
    "\n",
    "# Input list.\n",
    "values = [0.9999999, 1, 2, 3]\n",
    "\n",
    "# Sum values in list.\n",
    "r = sum(values)\n",
    "print(r)\n",
    "\n",
    "# Sum values with fsum.\n",
    "r = math.fsum(values)\n",
    "print(r)"
   ]
  },
  {
   "cell_type": "code",
   "execution_count": 9,
   "metadata": {},
   "outputs": [
    {
     "name": "stdout",
     "output_type": "stream",
     "text": [
      "3.0\n",
      "4.0\n",
      "10.0\n"
     ]
    }
   ],
   "source": [
    "import math\n",
    "\n",
    "value1 = 9\n",
    "value2 = 16\n",
    "value3 = 100\n",
    "\n",
    "# Use sqrt method.\n",
    "print(math.sqrt(value1))\n",
    "print(math.sqrt(value2))\n",
    "print(math.sqrt(value3))"
   ]
  },
  {
   "cell_type": "markdown",
   "metadata": {},
   "source": [
    "## Widgets\n"
   ]
  },
  {
   "cell_type": "code",
   "execution_count": 7,
   "metadata": {},
   "outputs": [
    {
     "data": {
      "application/vnd.jupyter.widget-view+json": {
       "model_id": "1f57ee9729dc450690e9ed79157c13bd",
       "version_major": 2,
       "version_minor": 0
      },
      "text/html": [
       "<p>Failed to display Jupyter Widget of type <code>VBox</code>.</p>\n",
       "<p>\n",
       "  If you're reading this message in Jupyter Notebook or JupyterLab, it may mean\n",
       "  that the widgets JavaScript is still loading. If this message persists, it\n",
       "  likely means that the widgets JavaScript library is either not installed or\n",
       "  not enabled. See the <a href=\"https://ipywidgets.readthedocs.io/en/stable/user_install.html\">Jupyter\n",
       "  Widgets Documentation</a> for setup instructions.\n",
       "</p>\n",
       "<p>\n",
       "  If you're reading this message in another notebook frontend (for example, a static\n",
       "  rendering on GitHub or <a href=\"https://nbviewer.jupyter.org/\">NBViewer</a>),\n",
       "  it may mean that your frontend doesn't currently support widgets.\n",
       "</p>\n"
      ],
      "text/plain": [
       "VBox(children=(Figure(axes=[ColorAxis(scale=ColorScale()), Axis(scale=LinearScale()), Axis(orientation='vertical', scale=LinearScale())], fig_margin={'top': 60, 'bottom': 60, 'left': 60, 'right': 60}, layout=Layout(min_width='125px'), marks=[Scatter(color=array([-0.92080358,  0.66131463, -1.15502926,  0.17181704, -0.20885214,\n",
       "       -0.78020657, -0.75757116, -0.30707455,  0.79767188, -0.11388828,\n",
       "       -0.03741131,  0.57575427,  0.34310406, -0.15033144, -1.41436716,\n",
       "        1.17438084,  0.79621954,  1.83544861, -0.04367038,  1.95792013,\n",
       "        0.30512626, -0.93479621,  0.77883453,  1.12034671, -0.55958301,\n",
       "        0.02024866,  0.14948414,  0.38045536,  0.55602769, -1.48587755,\n",
       "       -0.30966972,  1.14682758, -2.22628793, -0.01868683, -1.22546395,\n",
       "        0.19291983, -0.89589231,  1.33200798, -0.39921825,  0.66031392,\n",
       "        0.82179602,  0.04992955, -0.29885536,  0.88439786,  1.36950129,\n",
       "        0.70619888, -1.48131896, -0.83766929, -0.87865748,  1.12455759,\n",
       "       -1.21701596,  0.4988658 ,  0.1196914 , -0.12980889,  0.55804309,\n",
       "        0.98123251, -1.22683628, -0.96349552,  2.0233898 ,  1.20880133,\n",
       "       -1.22152388,  1.70038495,  0.53889937,  0.8892342 ,  0.64824317,\n",
       "       -1.50366936, -1.26259231, -0.55420107, -0.41399107, -0.80629169,\n",
       "        1.93669078,  0.21621095,  0.83609083, -0.81297184, -0.31152421,\n",
       "        1.00112687,  2.57789196, -0.55222308,  0.78894433, -1.34733951,\n",
       "       -1.10417978,  0.58918534, -1.47593328,  1.62689503, -0.40797588,\n",
       "       -0.0163866 , -1.06600227,  0.19377703,  0.91352616,  1.17692785,\n",
       "        0.66025823, -0.73797367,  0.60339786,  0.39366487,  0.04759423,\n",
       "       -0.88562508,  0.12474733,  0.4994319 ,  0.42198137,  0.72914632]), colors=['DeepSkyBlue'], interactions={'hover': 'tooltip'}, scales={'color': ColorScale(), 'x': LinearScale(), 'y': LinearScale()}, scales_metadata={'x': {'orientation': 'horizontal', 'dimension': 'x'}, 'y': {'orientation': 'vertical', 'dimension': 'y'}, 'color': {'dimension': 'color'}, 'size': {'dimension': 'size'}, 'opacity': {'dimension': 'opacity'}, 'rotation': {'dimension': 'rotation'}, 'skew': {'dimension': 'skew'}}, tooltip_style={'opacity': 0.9}, x=array([-0.50839487,  0.40902234,  0.29362687, -1.70359295, -0.88415618,\n",
       "       -1.30811772, -0.60286989,  1.14533805,  1.28120236,  1.60813938,\n",
       "       -0.39242788, -0.28123915,  1.14613255,  0.65744746,  1.89030347,\n",
       "       -0.75474109, -0.20746336,  0.28381004,  0.63923225, -0.50692161,\n",
       "        0.21820075,  0.69453919,  0.73281621, -0.23520301, -1.82633425,\n",
       "        1.08779877,  1.9709905 , -1.34499236, -0.24141251, -1.01395497,\n",
       "       -0.63152733, -1.38951453,  0.37426594, -0.0177653 ,  0.12603512,\n",
       "       -0.76364211,  0.00685846, -1.26609802,  0.12910363, -0.84210023,\n",
       "       -0.03444252,  0.41194038,  1.5774241 , -0.7072426 , -1.44401456,\n",
       "        0.85531354, -0.72513653,  1.06208078, -0.10794949,  0.21895383,\n",
       "       -0.289016  ,  0.5663468 , -1.10541524,  0.37317916,  1.10340668,\n",
       "        1.39030982, -0.07399826, -0.70435728, -0.80933725, -0.72756176,\n",
       "       -2.07507434,  0.60154026,  0.87935637, -1.07985375,  1.74785044,\n",
       "        0.61495366,  0.1054298 ,  0.56165161,  0.46956111, -0.2370975 ,\n",
       "       -1.84757975,  1.05556122, -0.21791525,  0.5431496 ,  0.69430854,\n",
       "       -0.03803793,  0.38401293,  0.7381508 ,  1.46669954,  0.22806511,\n",
       "        0.12704251, -0.47968971, -0.77709491, -2.8022127 ,  1.33178059,\n",
       "        0.2479916 , -1.01296684, -1.60827385, -0.53689753,  0.06905545,\n",
       "       -0.24618267, -0.96166908, -0.45936993, -2.19407161, -0.20734592,\n",
       "        0.02039082, -0.6654234 ,  1.1897945 ,  1.15846388, -0.78029378]), y=array([ 1.17346007, -1.69942203,  1.96877927,  0.05101407,  0.78221436,\n",
       "       -0.53441841,  0.26195333,  0.68458291,  0.43227682, -1.30571029,\n",
       "       -0.33189957,  0.99862082, -0.69965994, -0.24663308,  0.64363166,\n",
       "        0.17448592, -0.25395933,  1.93252753,  0.77682442, -1.30003683,\n",
       "        2.38152905,  1.96254004, -0.9159685 , -0.08441864,  1.91875221,\n",
       "        0.15910805, -0.50267876, -0.78677168, -0.46112502,  0.83544892,\n",
       "        1.00079852,  0.46888025,  0.4863489 , -0.71110877, -0.46714679,\n",
       "       -0.61933855,  0.65856619,  0.82376153,  1.95146585,  0.2703958 ,\n",
       "        1.71049534,  0.26736572, -0.42141226,  0.22463631, -0.11224119,\n",
       "       -0.17192094, -0.2567092 , -2.52686273,  0.87230848, -0.78311873,\n",
       "       -0.54677003,  0.91520514, -0.75304147, -0.83928534,  1.28298544,\n",
       "       -1.08579265, -2.13592437,  0.270047  ,  2.1709094 , -0.93479361,\n",
       "        0.53419711,  0.70477123, -0.16650836, -0.72168663, -0.28439006,\n",
       "       -0.91985519,  0.94299437,  0.57411557,  0.43107412,  1.74521959,\n",
       "        0.01753072, -1.32559819,  2.08779279, -1.37260717,  1.13542975,\n",
       "       -1.02581887,  1.24653578, -0.5817143 , -0.63541504,  2.37560608,\n",
       "       -0.79270062,  0.06085948, -0.61524186, -1.52469132,  1.54561418,\n",
       "        0.81676675, -0.01572718,  2.17310553, -0.36297459,  0.33791837,\n",
       "       -0.05587323,  0.51013096,  0.70042445, -1.02578013, -1.04519471,\n",
       "       -0.40802812,  0.88572294, -0.92815148, -0.76502623, -1.36942313]))], scale_x=LinearScale(allow_padding=False, max=1.0, min=0.0), scale_y=LinearScale(allow_padding=False, max=1.0, min=0.0), title='Scatter plot with colors'), Toolbar(figure=Figure(axes=[ColorAxis(scale=ColorScale()), Axis(scale=LinearScale()), Axis(orientation='vertical', scale=LinearScale())], fig_margin={'top': 60, 'bottom': 60, 'left': 60, 'right': 60}, layout=Layout(min_width='125px'), marks=[Scatter(color=array([-0.92080358,  0.66131463, -1.15502926,  0.17181704, -0.20885214,\n",
       "       -0.78020657, -0.75757116, -0.30707455,  0.79767188, -0.11388828,\n",
       "       -0.03741131,  0.57575427,  0.34310406, -0.15033144, -1.41436716,\n",
       "        1.17438084,  0.79621954,  1.83544861, -0.04367038,  1.95792013,\n",
       "        0.30512626, -0.93479621,  0.77883453,  1.12034671, -0.55958301,\n",
       "        0.02024866,  0.14948414,  0.38045536,  0.55602769, -1.48587755,\n",
       "       -0.30966972,  1.14682758, -2.22628793, -0.01868683, -1.22546395,\n",
       "        0.19291983, -0.89589231,  1.33200798, -0.39921825,  0.66031392,\n",
       "        0.82179602,  0.04992955, -0.29885536,  0.88439786,  1.36950129,\n",
       "        0.70619888, -1.48131896, -0.83766929, -0.87865748,  1.12455759,\n",
       "       -1.21701596,  0.4988658 ,  0.1196914 , -0.12980889,  0.55804309,\n",
       "        0.98123251, -1.22683628, -0.96349552,  2.0233898 ,  1.20880133,\n",
       "       -1.22152388,  1.70038495,  0.53889937,  0.8892342 ,  0.64824317,\n",
       "       -1.50366936, -1.26259231, -0.55420107, -0.41399107, -0.80629169,\n",
       "        1.93669078,  0.21621095,  0.83609083, -0.81297184, -0.31152421,\n",
       "        1.00112687,  2.57789196, -0.55222308,  0.78894433, -1.34733951,\n",
       "       -1.10417978,  0.58918534, -1.47593328,  1.62689503, -0.40797588,\n",
       "       -0.0163866 , -1.06600227,  0.19377703,  0.91352616,  1.17692785,\n",
       "        0.66025823, -0.73797367,  0.60339786,  0.39366487,  0.04759423,\n",
       "       -0.88562508,  0.12474733,  0.4994319 ,  0.42198137,  0.72914632]), colors=['DeepSkyBlue'], interactions={'hover': 'tooltip'}, scales={'color': ColorScale(), 'x': LinearScale(), 'y': LinearScale()}, scales_metadata={'x': {'orientation': 'horizontal', 'dimension': 'x'}, 'y': {'orientation': 'vertical', 'dimension': 'y'}, 'color': {'dimension': 'color'}, 'size': {'dimension': 'size'}, 'opacity': {'dimension': 'opacity'}, 'rotation': {'dimension': 'rotation'}, 'skew': {'dimension': 'skew'}}, tooltip_style={'opacity': 0.9}, x=array([-0.50839487,  0.40902234,  0.29362687, -1.70359295, -0.88415618,\n",
       "       -1.30811772, -0.60286989,  1.14533805,  1.28120236,  1.60813938,\n",
       "       -0.39242788, -0.28123915,  1.14613255,  0.65744746,  1.89030347,\n",
       "       -0.75474109, -0.20746336,  0.28381004,  0.63923225, -0.50692161,\n",
       "        0.21820075,  0.69453919,  0.73281621, -0.23520301, -1.82633425,\n",
       "        1.08779877,  1.9709905 , -1.34499236, -0.24141251, -1.01395497,\n",
       "       -0.63152733, -1.38951453,  0.37426594, -0.0177653 ,  0.12603512,\n",
       "       -0.76364211,  0.00685846, -1.26609802,  0.12910363, -0.84210023,\n",
       "       -0.03444252,  0.41194038,  1.5774241 , -0.7072426 , -1.44401456,\n",
       "        0.85531354, -0.72513653,  1.06208078, -0.10794949,  0.21895383,\n",
       "       -0.289016  ,  0.5663468 , -1.10541524,  0.37317916,  1.10340668,\n",
       "        1.39030982, -0.07399826, -0.70435728, -0.80933725, -0.72756176,\n",
       "       -2.07507434,  0.60154026,  0.87935637, -1.07985375,  1.74785044,\n",
       "        0.61495366,  0.1054298 ,  0.56165161,  0.46956111, -0.2370975 ,\n",
       "       -1.84757975,  1.05556122, -0.21791525,  0.5431496 ,  0.69430854,\n",
       "       -0.03803793,  0.38401293,  0.7381508 ,  1.46669954,  0.22806511,\n",
       "        0.12704251, -0.47968971, -0.77709491, -2.8022127 ,  1.33178059,\n",
       "        0.2479916 , -1.01296684, -1.60827385, -0.53689753,  0.06905545,\n",
       "       -0.24618267, -0.96166908, -0.45936993, -2.19407161, -0.20734592,\n",
       "        0.02039082, -0.6654234 ,  1.1897945 ,  1.15846388, -0.78029378]), y=array([ 1.17346007, -1.69942203,  1.96877927,  0.05101407,  0.78221436,\n",
       "       -0.53441841,  0.26195333,  0.68458291,  0.43227682, -1.30571029,\n",
       "       -0.33189957,  0.99862082, -0.69965994, -0.24663308,  0.64363166,\n",
       "        0.17448592, -0.25395933,  1.93252753,  0.77682442, -1.30003683,\n",
       "        2.38152905,  1.96254004, -0.9159685 , -0.08441864,  1.91875221,\n",
       "        0.15910805, -0.50267876, -0.78677168, -0.46112502,  0.83544892,\n",
       "        1.00079852,  0.46888025,  0.4863489 , -0.71110877, -0.46714679,\n",
       "       -0.61933855,  0.65856619,  0.82376153,  1.95146585,  0.2703958 ,\n",
       "        1.71049534,  0.26736572, -0.42141226,  0.22463631, -0.11224119,\n",
       "       -0.17192094, -0.2567092 , -2.52686273,  0.87230848, -0.78311873,\n",
       "       -0.54677003,  0.91520514, -0.75304147, -0.83928534,  1.28298544,\n",
       "       -1.08579265, -2.13592437,  0.270047  ,  2.1709094 , -0.93479361,\n",
       "        0.53419711,  0.70477123, -0.16650836, -0.72168663, -0.28439006,\n",
       "       -0.91985519,  0.94299437,  0.57411557,  0.43107412,  1.74521959,\n",
       "        0.01753072, -1.32559819,  2.08779279, -1.37260717,  1.13542975,\n",
       "       -1.02581887,  1.24653578, -0.5817143 , -0.63541504,  2.37560608,\n",
       "       -0.79270062,  0.06085948, -0.61524186, -1.52469132,  1.54561418,\n",
       "        0.81676675, -0.01572718,  2.17310553, -0.36297459,  0.33791837,\n",
       "       -0.05587323,  0.51013096,  0.70042445, -1.02578013, -1.04519471,\n",
       "       -0.40802812,  0.88572294, -0.92815148, -0.76502623, -1.36942313]))], scale_x=LinearScale(allow_padding=False, max=1.0, min=0.0), scale_y=LinearScale(allow_padding=False, max=1.0, min=0.0), title='Scatter plot with colors'))))"
      ]
     },
     "metadata": {},
     "output_type": "display_data"
    }
   ],
   "source": [
    "import numpy as np\n",
    "import bqplot.pyplot as plt\n",
    "\n",
    "size = 100\n",
    "\n",
    "plt.figure(title='Scatter plot with colors')\n",
    "plt.scatter(np.random.randn(size), np.random.randn(size), color=np.random.randn(size))\n",
    "plt.show()"
   ]
  },
  {
   "cell_type": "code",
   "execution_count": 6,
   "metadata": {},
   "outputs": [
    {
     "data": {
      "application/vnd.jupyter.widget-view+json": {
       "model_id": "a4dcfc7245b646e7bfddc05788d209e0",
       "version_major": 2,
       "version_minor": 0
      },
      "text/html": [
       "<p>Failed to display Jupyter Widget of type <code>Map</code>.</p>\n",
       "<p>\n",
       "  If you're reading this message in Jupyter Notebook or JupyterLab, it may mean\n",
       "  that the widgets JavaScript is still loading. If this message persists, it\n",
       "  likely means that the widgets JavaScript library is either not installed or\n",
       "  not enabled. See the <a href=\"https://ipywidgets.readthedocs.io/en/stable/user_install.html\">Jupyter\n",
       "  Widgets Documentation</a> for setup instructions.\n",
       "</p>\n",
       "<p>\n",
       "  If you're reading this message in another notebook frontend (for example, a static\n",
       "  rendering on GitHub or <a href=\"https://nbviewer.jupyter.org/\">NBViewer</a>),\n",
       "  it may mean that your frontend doesn't currently support widgets.\n",
       "</p>\n"
      ],
      "text/plain": [
       "Map(center=[36.146956, -86.779788], layers=(TileLayer(options=['attribution', 'detect_retina', 'max_zoom', 'min_zoom', 'opacity', 'tile_size']),), layout=Layout(align_self='stretch', height='400px'), options=['attribution_control', 'bounce_at_zoom_limits', 'box_zoom', 'center', 'close_popup_on_click', 'double_click_zoom', 'dragging', 'inertia', 'inertia_deceleration', 'inertia_max_speed', 'keyboard', 'keyboard_pan_offset', 'keyboard_zoom_offset', 'max_zoom', 'min_zoom', 'scroll_wheel_zoom', 'tap', 'tap_tolerance', 'touch_zoom', 'world_copy_jump', 'zoom', 'zoom_animation_threshold', 'zoom_control', 'zoom_start'], zoom=10)"
      ]
     },
     "metadata": {},
     "output_type": "display_data"
    }
   ],
   "source": [
    "from ipyleaflet import Map \n",
    "\n",
    "Map(center=[36.146956, -86.779788], zoom=10)"
   ]
  },
  {
   "cell_type": "code",
   "execution_count": 22,
   "metadata": {},
   "outputs": [
    {
     "ename": "FileNotFoundError",
     "evalue": "[Errno 2] No such file or directory: './europe_110.geo.json'",
     "output_type": "error",
     "traceback": [
      "\u001b[0;31m---------------------------------------------------------------------------\u001b[0m",
      "\u001b[0;31mFileNotFoundError\u001b[0m                         Traceback (most recent call last)",
      "\u001b[0;32m<ipython-input-22-6326f91275b6>\u001b[0m in \u001b[0;36m<module>\u001b[0;34m()\u001b[0m\n\u001b[1;32m      8\u001b[0m \u001b[0;34m\u001b[0m\u001b[0m\n\u001b[1;32m      9\u001b[0m \u001b[0;31m# geojson layer with hover handler\u001b[0m\u001b[0;34m\u001b[0m\u001b[0;34m\u001b[0m\u001b[0m\n\u001b[0;32m---> 10\u001b[0;31m \u001b[0;32mwith\u001b[0m \u001b[0mopen\u001b[0m\u001b[0;34m(\u001b[0m\u001b[0;34m'./europe_110.geo.json'\u001b[0m\u001b[0;34m)\u001b[0m \u001b[0;32mas\u001b[0m \u001b[0mf\u001b[0m\u001b[0;34m:\u001b[0m\u001b[0;34m\u001b[0m\u001b[0m\n\u001b[0m\u001b[1;32m     11\u001b[0m     \u001b[0mdata\u001b[0m \u001b[0;34m=\u001b[0m \u001b[0mjson\u001b[0m\u001b[0;34m.\u001b[0m\u001b[0mload\u001b[0m\u001b[0;34m(\u001b[0m\u001b[0mf\u001b[0m\u001b[0;34m)\u001b[0m\u001b[0;34m\u001b[0m\u001b[0m\n\u001b[1;32m     12\u001b[0m \u001b[0;32mfor\u001b[0m \u001b[0mfeature\u001b[0m \u001b[0;32min\u001b[0m \u001b[0mdata\u001b[0m\u001b[0;34m[\u001b[0m\u001b[0;34m'features'\u001b[0m\u001b[0;34m]\u001b[0m\u001b[0;34m:\u001b[0m\u001b[0;34m\u001b[0m\u001b[0m\n",
      "\u001b[0;31mFileNotFoundError\u001b[0m: [Errno 2] No such file or directory: './europe_110.geo.json'"
     ]
    }
   ],
   "source": [
    "from ipyleaflet import Map import json\n",
    "\n",
    "Map(center=[36.146956, -86.779788], zoom=10)\n",
    "\n"
   ]
  },
  {
   "cell_type": "code",
   "execution_count": 12,
   "metadata": {},
   "outputs": [
    {
     "ename": "ModuleNotFoundError",
     "evalue": "No module named 'pythreejs'",
     "output_type": "error",
     "traceback": [
      "\u001b[0;31m---------------------------------------------------------------------------\u001b[0m",
      "\u001b[0;31mModuleNotFoundError\u001b[0m                       Traceback (most recent call last)",
      "\u001b[0;32m<ipython-input-12-0ede01a8a748>\u001b[0m in \u001b[0;36m<module>\u001b[0;34m()\u001b[0m\n\u001b[0;32m----> 1\u001b[0;31m \u001b[0;32mfrom\u001b[0m \u001b[0mpythreejs\u001b[0m \u001b[0;32mimport\u001b[0m \u001b[0;34m*\u001b[0m\u001b[0;34m\u001b[0m\u001b[0m\n\u001b[0m\u001b[1;32m      2\u001b[0m \u001b[0;34m\u001b[0m\u001b[0m\n\u001b[1;32m      3\u001b[0m f = \"\"\"\n\u001b[1;32m      4\u001b[0m function f(origu,origv) {\n\u001b[1;32m      5\u001b[0m     \u001b[0;34m//\u001b[0m \u001b[0mscale\u001b[0m \u001b[0mu\u001b[0m \u001b[0;32mand\u001b[0m \u001b[0mv\u001b[0m \u001b[0mto\u001b[0m \u001b[0mthe\u001b[0m \u001b[0mranges\u001b[0m \u001b[0mI\u001b[0m \u001b[0mwant\u001b[0m\u001b[0;34m:\u001b[0m \u001b[0;34m[\u001b[0m\u001b[0;36m0\u001b[0m\u001b[0;34m,\u001b[0m \u001b[0;36m2\u001b[0m\u001b[0;34m*\u001b[0m\u001b[0mpi\u001b[0m\u001b[0;34m]\u001b[0m\u001b[0;34m\u001b[0m\u001b[0m\n",
      "\u001b[0;31mModuleNotFoundError\u001b[0m: No module named 'pythreejs'"
     ]
    }
   ],
   "source": [
    "from pythreejs import *\n",
    "\n",
    "f = \"\"\"\n",
    "function f(origu,origv) {\n",
    "    // scale u and v to the ranges I want: [0, 2*pi]\n",
    "    var u = 2*Math.PI*origu;\n",
    "    var v = 2*Math.PI*origv;\n",
    "    \n",
    "    var x = Math.sin(u);\n",
    "    var y = Math.cos(v);\n",
    "    var z = Math.cos(u+v);\n",
    "    \n",
    "    return new THREE.Vector3(x,y,z)\n",
    "}\n",
    "\"\"\"\n",
    "\n",
    "surf_g = ParametricGeometry(func=f);\n",
    "surf = Mesh(geometry=surf_g, material=LambertMaterial(color='green', side='FrontSide'))\n",
    "surf2 = Mesh(geometry=surf_g, material=LambertMaterial(color='yellow', side='BackSide'))\n",
    "scene = Scene(children=[surf, surf2, AmbientLight(color='#777777')])\n",
    "c = PerspectiveCamera(position=[2.5, 2.5, 2.5], up=[0, 0, 1],\n",
    "                      children=[DirectionalLight(color='white',\n",
    "                                                 position=[3, 5, 1],\n",
    "                                                 intensity=0.6)])\n",
    "Renderer(camera=c, scene=scene, controls=[OrbitControls(controlling=c)])"
   ]
  },
  {
   "cell_type": "markdown",
   "metadata": {},
   "source": [
    "## Equations\n",
    "\n",
    " You can use [LaTex](https://www.latex-project.org/) within Jupyter.  Check out the LaTex [cheatsheet](https://wch.github.io/latexsheet/)!\n",
    " \n",
    " One alternative to LaTeX is [prettyPy](https://github.com/charliekawczynski/prettyPy) or [sympy](http://www.sympy.org/en/index.html).  These are all great ways to write out equations, although the pros and cons of each need to be weighed before using.  For example prettyPy does not evaluate expressions but you also don't have to initialize variables.\n",
    " \n",
    " "
   ]
  },
  {
   "cell_type": "code",
   "execution_count": 5,
   "metadata": {},
   "outputs": [
    {
     "data": {
      "text/latex": [
       "$$F(k) = \\int_{-\\infty}^{\\infty} f(x) e^{2\\pi i k} dx$$"
      ],
      "text/plain": [
       "<IPython.core.display.Math object>"
      ]
     },
     "metadata": {},
     "output_type": "display_data"
    }
   ],
   "source": [
    "from IPython.display import display, Math, Latex\n",
    "display(Math(r'F(k) = \\int_{-\\infty}^{\\infty} f(x) e^{2\\pi i k} dx'))\n"
   ]
  },
  {
   "cell_type": "code",
   "execution_count": 4,
   "metadata": {},
   "outputs": [
    {
     "data": {
      "text/latex": [
       "\\begin{eqnarray}\n",
       "\\nabla \\times \\vec{\\mathbf{B}} -\\, \\frac1c\\, \\frac{\\partial\\vec{\\mathbf{E}}}{\\partial t} & = \\frac{4\\pi}{c}\\vec{\\mathbf{j}} \\\\\n",
       "\\nabla \\cdot \\vec{\\mathbf{E}} & = 4 \\pi \\rho \\\\\n",
       "\\nabla \\times \\vec{\\mathbf{E}}\\, +\\, \\frac1c\\, \\frac{\\partial\\vec{\\mathbf{B}}}{\\partial t} & = \\vec{\\mathbf{0}} \\\\\n",
       "\\nabla \\cdot \\vec{\\mathbf{B}} & = 0 \n",
       "\\end{eqnarray}"
      ],
      "text/plain": [
       "<IPython.core.display.Latex object>"
      ]
     },
     "execution_count": 4,
     "metadata": {},
     "output_type": "execute_result"
    }
   ],
   "source": [
    "from IPython.display import Latex\n",
    "Latex(r\"\"\"\\begin{eqnarray}\n",
    "\\nabla \\times \\vec{\\mathbf{B}} -\\, \\frac1c\\, \\frac{\\partial\\vec{\\mathbf{E}}}{\\partial t} & = \\frac{4\\pi}{c}\\vec{\\mathbf{j}} \\\\\n",
    "\\nabla \\cdot \\vec{\\mathbf{E}} & = 4 \\pi \\rho \\\\\n",
    "\\nabla \\times \\vec{\\mathbf{E}}\\, +\\, \\frac1c\\, \\frac{\\partial\\vec{\\mathbf{B}}}{\\partial t} & = \\vec{\\mathbf{0}} \\\\\n",
    "\\nabla \\cdot \\vec{\\mathbf{B}} & = 0 \n",
    "\\end{eqnarray}\"\"\")"
   ]
  },
  {
   "cell_type": "markdown",
   "metadata": {},
   "source": [
    "## Extra Resources"
   ]
  },
  {
   "cell_type": "markdown",
   "metadata": {},
   "source": [
    "Check out these [cool Jupyter notebooks](https://github.com/jupyter/jupyter/wiki/A-gallery-of-interesting-Jupyter-Notebooks#statistics-machine-learning-and-data-science).\n",
    "\n",
    "Most resources used to build this tutorial were taken from sourced cheatsheets, documentation, and stack overflow.  \n"
   ]
  },
  {
   "cell_type": "code",
   "execution_count": null,
   "metadata": {
    "collapsed": true
   },
   "outputs": [],
   "source": []
  }
 ],
 "metadata": {
  "kernelspec": {
   "display_name": "Python 3",
   "language": "python",
   "name": "python3"
  },
  "language_info": {
   "codemirror_mode": {
    "name": "ipython",
    "version": 3
   },
   "file_extension": ".py",
   "mimetype": "text/x-python",
   "name": "python",
   "nbconvert_exporter": "python",
   "pygments_lexer": "ipython3",
   "version": "3.6.1"
  }
 },
 "nbformat": 4,
 "nbformat_minor": 2
}
